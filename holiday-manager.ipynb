{
 "cells": [
  {
   "cell_type": "code",
   "execution_count": 1,
   "metadata": {},
   "outputs": [],
   "source": [
    "import datetime\n",
    "import json\n",
    "from bs4 import BeautifulSoup\n",
    "import requests\n",
    "from dataclasses import dataclass, field\n",
    "import types\n",
    "from pprint import pprint\n",
    "\n",
    "@dataclass\n",
    "class Holiday:\n",
    "    name: str\n",
    "    date: datetime\n",
    "    \n",
    "    def __str__(self):\n",
    "        return f\"{self.name} ({self.date})\""
   ]
  },
  {
   "cell_type": "code",
   "execution_count": 41,
   "metadata": {},
   "outputs": [],
   "source": [
    "class HolidayList:\n",
    "    \"HolidayList class\"\n",
    "    def __init__(self):\n",
    "        self.innerHolidays = []\n",
    "\n",
    "    def addHoliday(self, holidayObj):\n",
    "        if isinstance(holidayObj, Holiday):\n",
    "            self.innerHolidays.append(holidayObj)\n",
    "            print(f\"Added holiday {holidayObj}\")\n",
    "\n",
    "    def findHoliday(self, HolidayName, Date):\n",
    "        for holiday in self.innerHolidays:\n",
    "            if holiday.name == HolidayName and holiday.date == Date:\n",
    "                return holiday\n",
    "            else:\n",
    "                print(f\"{holiday} is not in list.\")\n",
    "\n",
    "    def removeHoliday(self, HolidayName, Date):\n",
    "        for holiday in self.innerHolidays:\n",
    "            if holiday.name == HolidayName and holiday.date == Date:\n",
    "                self.innerHolidays.remove(holiday)\n",
    "                print(f\"{holiday} was removed from the list.\")\n",
    "            else:\n",
    "                print(f\"{holiday} is not in list.\")\n",
    "\n",
    "    def read_json(self, filelocation):\n",
    "        with open(filelocation, \"r\") as jsonfile:\n",
    "            data = json.load(jsonfile)\n",
    "            for i in range(len(data[\"holidays\"])):\n",
    "                holiday = Holiday(data[\"holidays\"][i][\"name\"], data[\"holidays\"][i][\"date\"])\n",
    "                HolidayList.addHoliday(self, holiday)\n",
    "\n",
    "    def save_to_json(self, filelocation):\n",
    "        json_list = []\n",
    "        json_dict = {\"holidays\": json_list}\n",
    "        with open(filelocation, \"w\") as jsonfile:\n",
    "            for holiday in self.innerHolidays:\n",
    "                json_list.append(holiday.__dict__)\n",
    "            json.dump(json_dict, jsonfile, indent=3)\n"
   ]
  },
  {
   "cell_type": "code",
   "execution_count": 43,
   "metadata": {},
   "outputs": [
    {
     "name": "stdout",
     "output_type": "stream",
     "text": [
      "Added holiday New Year's Day (2022-01-01)\n",
      "Added holiday Margaret Thatcher Day (2021-01-10)\n",
      "Added holiday World Sketchnote Day (2021-01-11)\n",
      "Added holiday Zanzibar Revolution Day (2021-01-12)\n",
      "Added holiday National Rubber Ducky Day (2021-01-13)\n",
      "Added holiday Tamil Thai Pongdal Day (2021-01-14)\n",
      "Added holiday National Bagel Day (2021-01-15)\n",
      "Added holiday Signing of the Peace Accords (2021-01-16)\n"
     ]
    }
   ],
   "source": [
    "holiday1 = Holiday(\"New Year's Day\", \"2022-01-01\")\n",
    "#print(holiday1)\n",
    "\n",
    "holidaylist = HolidayList()\n",
    "\n",
    "holidaylist.addHoliday(holiday1)\n",
    "#holidaylist.findHoliday(\"New Year's Day\", \"2022-01-01\")\n",
    "#holidaylist.removeHoliday(\"New Year's Day\", \"2022-01-01\")\n",
    "\n",
    "holidaylist.read_json(\"holidays.json\")\n",
    "holidaylist.save_to_json(\"holidays.json\")\n"
   ]
  },
  {
   "cell_type": "code",
   "execution_count": 4,
   "metadata": {},
   "outputs": [
    {
     "name": "stdout",
     "output_type": "stream",
     "text": [
      "{'city': {'id': 5128581, 'name': 'New York', 'coord': {'lon': -74.006, 'lat': 40.7143}, 'country': 'US', 'population': 8175133, 'timezone': -18000}, 'cod': '200', 'message': 0.0833458, 'cnt': 7, 'list': [{'dt': 1641661200, 'sunrise': 1641644389, 'sunset': 1641678315, 'temp': {'day': 26.92, 'min': 21.06, 'max': 29.5, 'night': 26.62, 'eve': 25.75, 'morn': 21.06}, 'feels_like': {'day': 19.38, 'night': 17.71, 'eve': 21.43, 'morn': 8.46}, 'pressure': 1035, 'humidity': 53, 'weather': [{'id': 800, 'main': 'Clear', 'description': 'sky is clear', 'icon': '01d'}], 'speed': 15.7, 'deg': 303, 'gust': 30.58, 'clouds': 0, 'pop': 0}, {'dt': 1641747600, 'sunrise': 1641730779, 'sunset': 1641764775, 'temp': {'day': 36.16, 'min': 27.21, 'max': 38.46, 'night': 38.46, 'eve': 35.73, 'morn': 31.69}, 'feels_like': {'day': 26.4, 'night': 30.43, 'eve': 28, 'morn': 22.37}, 'pressure': 1022, 'humidity': 77, 'weather': [{'id': 500, 'main': 'Rain', 'description': 'light rain', 'icon': '10d'}], 'speed': 16.6, 'deg': 212, 'gust': 37.58, 'clouds': 100, 'pop': 0.93, 'rain': 1.89}, {'dt': 1641834000, 'sunrise': 1641817166, 'sunset': 1641851236, 'temp': {'day': 28.81, 'min': 26.04, 'max': 37.96, 'night': 26.04, 'eve': 28.89, 'morn': 27.79}, 'feels_like': {'day': 17.47, 'night': 14.29, 'eve': 19.45, 'morn': 17.8}, 'pressure': 1022, 'humidity': 43, 'weather': [{'id': 802, 'main': 'Clouds', 'description': 'scattered clouds', 'icon': '03d'}], 'speed': 17.4, 'deg': 310, 'gust': 29.71, 'clouds': 34, 'pop': 0.39}, {'dt': 1641920400, 'sunrise': 1641903551, 'sunset': 1641937698, 'temp': {'day': 19.4, 'min': 17.01, 'max': 23.79, 'night': 21.25, 'eve': 21.24, 'morn': 17.56}, 'feels_like': {'day': 6.8, 'night': 21.25, 'eve': 12.25, 'morn': 4.96}, 'pressure': 1033, 'humidity': 39, 'weather': [{'id': 801, 'main': 'Clouds', 'description': 'few clouds', 'icon': '02d'}], 'speed': 15.82, 'deg': 320, 'gust': 28.7, 'clouds': 20, 'pop': 0}, {'dt': 1642006800, 'sunrise': 1641989934, 'sunset': 1642024162, 'temp': {'day': 36.16, 'min': 22.59, 'max': 36.75, 'night': 33.78, 'eve': 34.83, 'morn': 25.54}, 'feels_like': {'day': 26.78, 'night': 27.52, 'eve': 27.14, 'morn': 14.14}, 'pressure': 1023, 'humidity': 42, 'weather': [{'id': 802, 'main': 'Clouds', 'description': 'scattered clouds', 'icon': '03d'}], 'speed': 15.43, 'deg': 226, 'gust': 31.43, 'clouds': 34, 'pop': 0}, {'dt': 1642093200, 'sunrise': 1642076315, 'sunset': 1642110627, 'temp': {'day': 37.98, 'min': 33.64, 'max': 37.98, 'night': 33.82, 'eve': 34.83, 'morn': 33.75}, 'feels_like': {'day': 33.8, 'night': 23.13, 'eve': 26.37, 'morn': 33.75}, 'pressure': 1012, 'humidity': 65, 'weather': [{'id': 804, 'main': 'Clouds', 'description': 'overcast clouds', 'icon': '04d'}], 'speed': 17.38, 'deg': 7, 'gust': 31.05, 'clouds': 100, 'pop': 0.04}, {'dt': 1642179600, 'sunrise': 1642162693, 'sunset': 1642197092, 'temp': {'day': 23.77, 'min': 22.55, 'max': 27.93, 'night': 25.12, 'eve': 24.69, 'morn': 22.55}, 'feels_like': {'day': 11.17, 'night': 13.57, 'eve': 12.11, 'morn': 9.95}, 'pressure': 999, 'humidity': 89, 'weather': [{'id': 601, 'main': 'Snow', 'description': 'snow', 'icon': '13d'}], 'speed': 27.63, 'deg': 354, 'gust': 55.81, 'clouds': 100, 'pop': 0.96, 'snow': 23.97}]}\n",
      "Clear\n"
     ]
    }
   ],
   "source": [
    "import requests\n",
    "\n",
    "url = \"https://community-open-weather-map.p.rapidapi.com/forecast/daily\"\n",
    "\n",
    "querystring = {\"q\":\"new york,us\",\"lat\":\"41\",\"lon\":\"74\",\"cnt\":\"7\",\"units\":\"imperial\"}\n",
    "\n",
    "headers = {\n",
    "    'x-rapidapi-host': \"community-open-weather-map.p.rapidapi.com\",\n",
    "    'x-rapidapi-key': \"1e19830f3bmshf56abb61a6e9168p189818jsnf035a12afc26\"\n",
    "    }\n",
    "\n",
    "weather = requests.request(\"GET\", url, headers=headers, params=querystring)\n",
    "weather_dict = weather.json()\n",
    "\n",
    "print(weather_dict)\n",
    "\n",
    "print(weather_dict[\"list\"][0][\"weather\"][0][\"main\"])"
   ]
  }
 ],
 "metadata": {
  "interpreter": {
   "hash": "86d1a67b0d56e74f294bd0a89711776805270fb9ebddae761db44ecf66e3b529"
  },
  "kernelspec": {
   "display_name": "Python 3.9.7 64-bit ('base': conda)",
   "language": "python",
   "name": "python3"
  },
  "language_info": {
   "codemirror_mode": {
    "name": "ipython",
    "version": 3
   },
   "file_extension": ".py",
   "mimetype": "text/x-python",
   "name": "python",
   "nbconvert_exporter": "python",
   "pygments_lexer": "ipython3",
   "version": "3.9.7"
  },
  "orig_nbformat": 4
 },
 "nbformat": 4,
 "nbformat_minor": 2
}
