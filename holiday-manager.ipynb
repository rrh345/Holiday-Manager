{
 "cells": [
  {
   "cell_type": "code",
   "execution_count": 218,
   "metadata": {},
   "outputs": [],
   "source": [
    "from datetime import datetime\n",
    "import json\n",
    "from bs4 import BeautifulSoup\n",
    "import requests\n",
    "from dataclasses import dataclass, field\n",
    "import types\n",
    "from pprint import pprint\n",
    "\n",
    "class Holiday:\n",
    "    def __init__(self,name, date):\n",
    "        self.name = name\n",
    "        # only accept datetime objects as date\n",
    "        self.date = datetime.strptime(date, \"%Y-%m-%d\")\n",
    "    \n",
    "    def __str__(self):\n",
    "        return f\"{self.name} ({self.date})\""
   ]
  },
  {
   "cell_type": "code",
   "execution_count": 219,
   "metadata": {},
   "outputs": [],
   "source": [
    "class HolidayList:\n",
    "    \"HolidayList class\"\n",
    "    def __init__(self):\n",
    "        self.innerHolidays = []\n",
    "\n",
    "    def addHoliday(self, holidayObj):\n",
    "        if isinstance(holidayObj, Holiday):\n",
    "            # Make sure holidayObj is an Holiday Object by checking the type. Add to innerHolidays\n",
    "            self.innerHolidays.append(holidayObj)\n",
    "            print(f\"Added holiday {holidayObj}\")\n",
    "\n",
    "    def findHoliday(self, HolidayName, Date):\n",
    "        for holiday in self.innerHolidays:\n",
    "            # Find and return Holiday in innerHolidays\n",
    "            if holiday.name == HolidayName and holiday.date == Date:\n",
    "                return holiday\n",
    "            else:\n",
    "                print(f\"{holiday} is not in list.\")\n",
    "\n",
    "    def removeHoliday(self, HolidayName, Date):\n",
    "        for holiday in self.innerHolidays:\n",
    "            # Find Holiday in innerHolidays by searching the name and date combination.\n",
    "            if holiday.name == HolidayName and holiday.date == Date:\n",
    "                # remove the Holiday from innerHolidays, and inform user you deleted the holiday\n",
    "                self.innerHolidays.remove(holiday)\n",
    "                print(f\"{holiday} was removed from the list.\")\n",
    "            else:\n",
    "                print(f\"{holiday} is not in list.\")\n",
    "\n",
    "    def read_json(self, filelocation):\n",
    "        # Read in things from json file location and add holidays to innerHolidays\n",
    "        with open(filelocation, \"r\") as jsonfile:\n",
    "            data = json.load(jsonfile)\n",
    "            for i in range(len(data[\"holidays\"])):\n",
    "                holiday = Holiday(data[\"holidays\"][i][\"name\"], data[\"holidays\"][i][\"date\"])\n",
    "                HolidayList.addHoliday(self, holiday)\n",
    "\n",
    "    def save_to_json(self, filelocation):\n",
    "        json_list = []\n",
    "        json_dict = {\"holidays\": json_list}\n",
    "        # Write out json file to selected file.\n",
    "        with open(filelocation, \"w\") as jsonfile:\n",
    "            for holiday in self.innerHolidays:\n",
    "                json_list.append(holiday.__dict__)\n",
    "            json.dump(json_dict, jsonfile, indent=3)\n",
    "\n",
    "    def scrapeHolidays(self):\n",
    "        def getHTML(url):\n",
    "            response = requests.get(url)\n",
    "            return response.text\n",
    "        # Scrape holidays from 2020-2024\n",
    "        for year in range(2020,2025):\n",
    "            year = str(year)\n",
    "            html = getHTML(\"https://www.timeanddate.com/calendar/custom.html?year=\" + year +\"&country=1&cols=3&df=1&hol=33554809\")\n",
    "            soup = BeautifulSoup(html,'html.parser')\n",
    "            holiday_data = soup.find('table', attrs = {'class':'cht lpad'}).find('tbody')\n",
    "            for row in holiday_data:\n",
    "                items = row.find_all('tr')\n",
    "                holiday_dict = {}\n",
    "                holiday_dict['name'] = row.find('td').find_next('td').string\n",
    "                holiday_dict['date'] = f\"{row.find('td').string}, {year}\"\n",
    "                # Check to see if name and date of holiday is in innerHolidays array. If it is, don't add it to list\n",
    "                if holiday_dict['name'] in self.innerHolidays and holiday_dict['date'] in self.innerHolidays:\n",
    "                    continue\n",
    "                else:\n",
    "                    self.innerHolidays.append(holiday_dict)\n",
    "    \n",
    "    def numHolidays(self):\n",
    "        # Return the total number of holidays in innerHolidays\n",
    "        return len(self.innerHolidays)\n",
    "\n",
    "    def filter_holidays_by_week(self, year, week_number):\n",
    "        # Use a Lambda function to filter by week number and cast results as list\n",
    "        global filter_by_week\n",
    "        filter_by_week = filter(lambda holiday:datetime.strftime(holiday.date, \"%U\") == week_number\n",
    "        and datetime.strftime(holiday.date, \"%Y\") == year, self.innerHolidays)\n",
    "        filter_by_week = list(filter_by_week)\n",
    "        return(filter_by_week)\n",
    "    \n",
    "    def displayHolidaysInWeek(self, year, week_number):\n",
    "        # Print list of holidays within a week as a parameter\n",
    "        HolidayList.filter_holidays_by_week(self, year, week_number)\n",
    "        for row in range(len(filter_by_week)):\n",
    "            print(filter_by_week[row])"
   ]
  },
  {
   "cell_type": "code",
   "execution_count": 220,
   "metadata": {},
   "outputs": [
    {
     "name": "stdout",
     "output_type": "stream",
     "text": [
      "New Year's Day (2022-01-01 00:00:00)\n",
      "Added holiday New Year's Day (2022-01-01 00:00:00)\n",
      "New Year's Day (2022-01-01 00:00:00)\n"
     ]
    }
   ],
   "source": [
    "holiday1 = Holiday(\"New Year's Day\", \"2022-01-01\")\n",
    "print(holiday1)\n",
    "\n",
    "holidaylist = HolidayList()\n",
    "\n",
    "holidaylist.addHoliday(holiday1)\n",
    "#holidaylist.findHoliday(\"New Year's Day\", \"2022-01-01\")\n",
    "#holidaylist.removeHoliday(\"New Year's Day\", \"2022-01-01\")\n",
    "\n",
    "#holidaylist.read_json(\"holidays.json\")\n",
    "\n",
    "#holidaylist.scrapeHolidays()\n",
    "\n",
    "#holidaylist.numHolidays()\n",
    "holidaylist.displayHolidaysInWeek(\"2022\", \"00\")\n",
    "\n"
   ]
  },
  {
   "cell_type": "code",
   "execution_count": 221,
   "metadata": {},
   "outputs": [
    {
     "name": "stdout",
     "output_type": "stream",
     "text": [
      "{'city': {'id': 5128581, 'name': 'New York', 'coord': {'lon': -74.006, 'lat': 40.7143}, 'country': 'US', 'population': 8175133, 'timezone': -18000}, 'cod': '200', 'message': 17.7835028, 'cnt': 7, 'list': [{'dt': 1641747600, 'sunrise': 1641730779, 'sunset': 1641764775, 'temp': {'day': 37.26, 'min': 28.51, 'max': 39.51, 'night': 39.51, 'eve': 38.1, 'morn': 31.48}, 'feels_like': {'day': 27.77, 'night': 31.73, 'eve': 31.15, 'morn': 22.12}, 'pressure': 1021, 'humidity': 75, 'weather': [{'id': 501, 'main': 'Rain', 'description': 'moderate rain', 'icon': '10d'}], 'speed': 16.8, 'deg': 219, 'gust': 36.95, 'clouds': 99, 'pop': 0.96, 'rain': 2.62}, {'dt': 1641834000, 'sunrise': 1641817166, 'sunset': 1641851236, 'temp': {'day': 28.22, 'min': 24.96, 'max': 37.8, 'night': 24.96, 'eve': 28.08, 'morn': 27.79}, 'feels_like': {'day': 16.72, 'night': 12.52, 'eve': 17.53, 'morn': 16.84}, 'pressure': 1022, 'humidity': 42, 'weather': [{'id': 801, 'main': 'Clouds', 'description': 'few clouds', 'icon': '02d'}], 'speed': 16.04, 'deg': 314, 'gust': 28.36, 'clouds': 17, 'pop': 0.54}, {'dt': 1641920400, 'sunrise': 1641903551, 'sunset': 1641937698, 'temp': {'day': 20.1, 'min': 17.01, 'max': 24.76, 'night': 22.51, 'eve': 22.33, 'morn': 18.52}, 'feels_like': {'day': 8.06, 'night': 17.8, 'eve': 14.86, 'morn': 5.92}, 'pressure': 1033, 'humidity': 38, 'weather': [{'id': 600, 'main': 'Snow', 'description': 'light snow', 'icon': '13d'}], 'speed': 16.69, 'deg': 295, 'gust': 29.55, 'clouds': 6, 'pop': 0.24, 'snow': 0.11}, {'dt': 1642006800, 'sunrise': 1641989934, 'sunset': 1642024162, 'temp': {'day': 38.17, 'min': 23.81, 'max': 38.17, 'night': 35.17, 'eve': 35.98, 'morn': 27.21}, 'feels_like': {'day': 29.21, 'night': 27.97, 'eve': 27.91, 'morn': 16.07}, 'pressure': 1022, 'humidity': 45, 'weather': [{'id': 801, 'main': 'Clouds', 'description': 'few clouds', 'icon': '02d'}], 'speed': 16.46, 'deg': 210, 'gust': 34.36, 'clouds': 23, 'pop': 0}, {'dt': 1642093200, 'sunrise': 1642076315, 'sunset': 1642110627, 'temp': {'day': 40.39, 'min': 32.9, 'max': 40.39, 'night': 32.9, 'eve': 36.5, 'morn': 35.2}, 'feels_like': {'day': 36.61, 'night': 22.73, 'eve': 28.49, 'morn': 31.05}, 'pressure': 1016, 'humidity': 64, 'weather': [{'id': 804, 'main': 'Clouds', 'description': 'overcast clouds', 'icon': '04d'}], 'speed': 15.01, 'deg': 17, 'gust': 27.31, 'clouds': 100, 'pop': 0.01}, {'dt': 1642179600, 'sunrise': 1642162693, 'sunset': 1642197092, 'temp': {'day': 27.03, 'min': 23.86, 'max': 29.44, 'night': 24.46, 'eve': 26.44, 'morn': 24.44}, 'feels_like': {'day': 14.43, 'night': 12.69, 'eve': 15.22, 'morn': 11.84}, 'pressure': 1011, 'humidity': 27, 'weather': [{'id': 804, 'main': 'Clouds', 'description': 'overcast clouds', 'icon': '04d'}], 'speed': 20.83, 'deg': 3, 'gust': 40.69, 'clouds': 95, 'pop': 0.01}, {'dt': 1642266000, 'sunrise': 1642249070, 'sunset': 1642283559, 'temp': {'day': 29.95, 'min': 22.51, 'max': 31.08, 'night': 30.18, 'eve': 29.5, 'morn': 23.25}, 'feels_like': {'day': 29.95, 'night': 26.26, 'eve': 24.87, 'morn': 18.19}, 'pressure': 1013, 'humidity': 34, 'weather': [{'id': 600, 'main': 'Snow', 'description': 'light snow', 'icon': '13d'}], 'speed': 10.54, 'deg': 356, 'gust': 17.83, 'clouds': 100, 'pop': 0.77, 'snow': 1.68}]}\n",
      "Rain\n"
     ]
    }
   ],
   "source": [
    "import requests\n",
    "\n",
    "url = \"https://community-open-weather-map.p.rapidapi.com/forecast/daily\"\n",
    "\n",
    "querystring = {\"q\":\"new york,us\",\"lat\":\"41\",\"lon\":\"74\",\"cnt\":\"7\",\"units\":\"imperial\"}\n",
    "\n",
    "headers = {\n",
    "    'x-rapidapi-host': \"community-open-weather-map.p.rapidapi.com\",\n",
    "    'x-rapidapi-key': \"1e19830f3bmshf56abb61a6e9168p189818jsnf035a12afc26\"\n",
    "    }\n",
    "\n",
    "weather = requests.request(\"GET\", url, headers=headers, params=querystring)\n",
    "weather_dict = weather.json()\n",
    "\n",
    "print(weather_dict)\n",
    "\n",
    "print(weather_dict[\"list\"][0][\"weather\"][0][\"main\"])"
   ]
  }
 ],
 "metadata": {
  "interpreter": {
   "hash": "86d1a67b0d56e74f294bd0a89711776805270fb9ebddae761db44ecf66e3b529"
  },
  "kernelspec": {
   "display_name": "Python 3.9.7 64-bit ('base': conda)",
   "language": "python",
   "name": "python3"
  },
  "language_info": {
   "codemirror_mode": {
    "name": "ipython",
    "version": 3
   },
   "file_extension": ".py",
   "mimetype": "text/x-python",
   "name": "python",
   "nbconvert_exporter": "python",
   "pygments_lexer": "ipython3",
   "version": "3.9.7"
  },
  "orig_nbformat": 4
 },
 "nbformat": 4,
 "nbformat_minor": 2
}
