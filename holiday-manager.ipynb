{
 "cells": [
  {
   "cell_type": "code",
   "execution_count": 2,
   "metadata": {},
   "outputs": [],
   "source": [
    "import datetime\n",
    "import json\n",
    "from bs4 import BeautifulSoup\n",
    "import requests\n",
    "from dataclasses import dataclass\n",
    "import types\n",
    "\n",
    "@dataclass\n",
    "class Holiday:\n",
    "    name: str\n",
    "    date: datetime\n",
    "    \n",
    "    def __str__ (self):\n",
    "        return f\"{name} ({date})\""
   ]
  },
  {
   "cell_type": "code",
   "execution_count": 3,
   "metadata": {},
   "outputs": [],
   "source": [
    "class HolidayList:\n",
    "    def __init__(self):\n",
    "        self.innerHolidays = []\n",
    "\n",
    "    def addHoliday(holidayObj):\n",
    "        if isinstance(holidayObj, types.ListType):\n",
    "            innerHolidays.append(holidayObj)\n",
    "            return(f\"Added holiday {holidayObj}\")\n"
   ]
  },
  {
   "cell_type": "code",
   "execution_count": 22,
   "metadata": {},
   "outputs": [
    {
     "name": "stdout",
     "output_type": "stream",
     "text": [
      "{'city': {'id': 5128581, 'name': 'New York', 'coord': {'lon': -74.006, 'lat': 40.7143}, 'country': 'US', 'population': 8175133, 'timezone': -18000}, 'cod': '200', 'message': 0.2635796, 'cnt': 7, 'list': [{'dt': 1641574800, 'sunrise': 1641557998, 'sunset': 1641591856, 'temp': {'day': 32.88, 'min': 24.64, 'max': 35.49, 'night': 24.64, 'eve': 30.06, 'morn': 29.59}, 'feels_like': {'day': 22.14, 'night': 12.04, 'eve': 18.36, 'morn': 21.4}, 'pressure': 1011, 'humidity': 71, 'weather': [{'id': 601, 'main': 'Snow', 'description': 'snow', 'icon': '13d'}], 'speed': 17.65, 'deg': 304, 'gust': 31.32, 'clouds': 83, 'pop': 1, 'snow': 9.67}, {'dt': 1641661200, 'sunrise': 1641644389, 'sunset': 1641678315, 'temp': {'day': 27.18, 'min': 21.24, 'max': 30.07, 'night': 27.95, 'eve': 28.27, 'morn': 21.33}, 'feels_like': {'day': 19.6, 'night': 18.82, 'eve': 21.45, 'morn': 9.1}, 'pressure': 1035, 'humidity': 52, 'weather': [{'id': 800, 'main': 'Clear', 'description': 'sky is clear', 'icon': '01d'}], 'speed': 15.95, 'deg': 298, 'gust': 31.29, 'clouds': 0, 'pop': 0}, {'dt': 1641747600, 'sunrise': 1641730779, 'sunset': 1641764775, 'temp': {'day': 35.56, 'min': 27.79, 'max': 37.13, 'night': 37.13, 'eve': 36.41, 'morn': 31.44}, 'feels_like': {'day': 25.95, 'night': 29.57, 'eve': 28.83, 'morn': 21.36}, 'pressure': 1021, 'humidity': 79, 'weather': [{'id': 500, 'main': 'Rain', 'description': 'light rain', 'icon': '10d'}], 'speed': 15.61, 'deg': 221, 'gust': 37.94, 'clouds': 89, 'pop': 1, 'rain': 3.1}, {'dt': 1641834000, 'sunrise': 1641817166, 'sunset': 1641851236, 'temp': {'day': 29.44, 'min': 26.51, 'max': 39.07, 'night': 26.51, 'eve': 28.47, 'morn': 27.12}, 'feels_like': {'day': 18.27, 'night': 14, 'eve': 17.15, 'morn': 15.53}, 'pressure': 1020, 'humidity': 39, 'weather': [{'id': 802, 'main': 'Clouds', 'description': 'scattered clouds', 'icon': '03d'}], 'speed': 16.42, 'deg': 290, 'gust': 30.36, 'clouds': 33, 'pop': 0.65}, {'dt': 1641920400, 'sunrise': 1641903551, 'sunset': 1641937698, 'temp': {'day': 19.6, 'min': 16.92, 'max': 23.99, 'night': 16.92, 'eve': 18.1, 'morn': 18.1}, 'feels_like': {'day': 7, 'night': 5.25, 'eve': 5.5, 'morn': 5.5}, 'pressure': 1033, 'humidity': 36, 'weather': [{'id': 802, 'main': 'Clouds', 'description': 'scattered clouds', 'icon': '03d'}], 'speed': 16.31, 'deg': 319, 'gust': 27.04, 'clouds': 44, 'pop': 0}, {'dt': 1642006800, 'sunrise': 1641989934, 'sunset': 1642024162, 'temp': {'day': 23.85, 'min': 16.38, 'max': 30.87, 'night': 30.87, 'eve': 28.8, 'morn': 16.59}, 'feels_like': {'day': 16.05, 'night': 21.94, 'eve': 19, 'morn': 11.26}, 'pressure': 1035, 'humidity': 43, 'weather': [{'id': 803, 'main': 'Clouds', 'description': 'broken clouds', 'icon': '04d'}], 'speed': 11.45, 'deg': 191, 'gust': 23.62, 'clouds': 65, 'pop': 0}, {'dt': 1642093200, 'sunrise': 1642076315, 'sunset': 1642110627, 'temp': {'day': 35.22, 'min': 31.96, 'max': 35.78, 'night': 35.28, 'eve': 35.56, 'morn': 31.96}, 'feels_like': {'day': 29.17, 'night': 28.24, 'eve': 29.53, 'morn': 24.94}, 'pressure': 1015, 'humidity': 62, 'weather': [{'id': 803, 'main': 'Clouds', 'description': 'broken clouds', 'icon': '04d'}], 'speed': 11.81, 'deg': 196, 'gust': 23.31, 'clouds': 75, 'pop': 0.03}]}\n",
      "Snow\n"
     ]
    }
   ],
   "source": [
    "import requests\n",
    "\n",
    "url = \"https://community-open-weather-map.p.rapidapi.com/forecast/daily\"\n",
    "\n",
    "querystring = {\"q\":\"new york,us\",\"lat\":\"41\",\"lon\":\"74\",\"cnt\":\"7\",\"units\":\"imperial\"}\n",
    "\n",
    "headers = {\n",
    "    'x-rapidapi-host': \"community-open-weather-map.p.rapidapi.com\",\n",
    "    'x-rapidapi-key': \"1e19830f3bmshf56abb61a6e9168p189818jsnf035a12afc26\"\n",
    "    }\n",
    "\n",
    "weather = requests.request(\"GET\", url, headers=headers, params=querystring)\n",
    "weather_dict = weather.json()\n",
    "\n",
    "print(weather_dict)\n",
    "\n",
    "print(weather_dict[\"list\"][0][\"weather\"][0][\"main\"])"
   ]
  }
 ],
 "metadata": {
  "interpreter": {
   "hash": "86d1a67b0d56e74f294bd0a89711776805270fb9ebddae761db44ecf66e3b529"
  },
  "kernelspec": {
   "display_name": "Python 3.9.7 64-bit ('base': conda)",
   "language": "python",
   "name": "python3"
  },
  "language_info": {
   "codemirror_mode": {
    "name": "ipython",
    "version": 3
   },
   "file_extension": ".py",
   "mimetype": "text/x-python",
   "name": "python",
   "nbconvert_exporter": "python",
   "pygments_lexer": "ipython3",
   "version": "3.9.7"
  },
  "orig_nbformat": 4
 },
 "nbformat": 4,
 "nbformat_minor": 2
}
