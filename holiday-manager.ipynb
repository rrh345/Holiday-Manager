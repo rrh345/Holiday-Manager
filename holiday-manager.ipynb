{
 "cells": [
  {
   "cell_type": "code",
   "execution_count": 46,
   "metadata": {},
   "outputs": [],
   "source": [
    "import datetime\n",
    "import json\n",
    "from bs4 import BeautifulSoup\n",
    "import requests\n",
    "from dataclasses import dataclass, field\n",
    "import types\n",
    "\n",
    "@dataclass\n",
    "class Holiday:\n",
    "    name: str\n",
    "    date: datetime\n",
    "    \n",
    "    def __str__(self):\n",
    "        return f\"{self.name} ({self.date})\""
   ]
  },
  {
   "cell_type": "code",
   "execution_count": 86,
   "metadata": {},
   "outputs": [],
   "source": [
    "class HolidayList:\n",
    "    \"HolidayList class\"\n",
    "    def __init__(self):\n",
    "        self.innerHolidays = []\n",
    "\n",
    "    def addHoliday(self, holidayObj):\n",
    "        if isinstance(holidayObj, Holiday):\n",
    "            self.innerHolidays.append(holidayObj)\n",
    "            print(f\"Added holiday {holidayObj}\")\n",
    "\n",
    "    def findHoliday(self, HolidayName, Date):\n",
    "        for holiday in self.innerHolidays:\n",
    "            if holiday.name == HolidayName and holiday.date == Date:\n",
    "                return holiday\n",
    "            else:\n",
    "                print(f\"{holiday} is not in list.\")\n",
    "\n",
    "    def removeHoliday(self, HolidayName, Date):\n",
    "        for holiday in self.innerHolidays:\n",
    "            if holiday.name == HolidayName and holiday.date == Date:\n",
    "                self.innerHolidays.remove(holiday)\n",
    "                print(f\"{holiday} was removed from the list.\")\n",
    "            else:\n",
    "                print(f\"{holiday} is not in list.\")"
   ]
  },
  {
   "cell_type": "code",
   "execution_count": 88,
   "metadata": {},
   "outputs": [
    {
     "name": "stdout",
     "output_type": "stream",
     "text": [
      "New Year's Day (2022-01-01) was removed from the list.\n"
     ]
    }
   ],
   "source": [
    "holiday1 = Holiday(\"New Year's Day\", \"2022-01-01\")\n",
    "#print(holiday1)\n",
    "\n",
    "holidaylist = HolidayList()\n",
    "\n",
    "holidaylist.addHoliday(holiday1)\n",
    "\n",
    "holidaylist.findHoliday(\"New Year's Day\", \"2022-01-01\")\n",
    "\n",
    "holidaylist.removeHoliday(\"New Year's Day\", \"2022-01-01\")\n",
    "\n"
   ]
  },
  {
   "cell_type": "code",
   "execution_count": 4,
   "metadata": {},
   "outputs": [
    {
     "name": "stdout",
     "output_type": "stream",
     "text": [
      "{'city': {'id': 5128581, 'name': 'New York', 'coord': {'lon': -74.006, 'lat': 40.7143}, 'country': 'US', 'population': 8175133, 'timezone': -18000}, 'cod': '200', 'message': 18.5456298, 'cnt': 7, 'list': [{'dt': 1641661200, 'sunrise': 1641644389, 'sunset': 1641678315, 'temp': {'day': 26.92, 'min': 21.06, 'max': 28.71, 'night': 27.9, 'eve': 25.93, 'morn': 21.06}, 'feels_like': {'day': 19.38, 'night': 18.95, 'eve': 20.23, 'morn': 8.46}, 'pressure': 1035, 'humidity': 53, 'weather': [{'id': 800, 'main': 'Clear', 'description': 'sky is clear', 'icon': '01d'}], 'speed': 15.7, 'deg': 303, 'gust': 30.58, 'clouds': 0, 'pop': 0}, {'dt': 1641747600, 'sunrise': 1641730779, 'sunset': 1641764775, 'temp': {'day': 36.46, 'min': 27.68, 'max': 37.96, 'night': 37.96, 'eve': 36.14, 'morn': 31.12}, 'feels_like': {'day': 26.56, 'night': 30.36, 'eve': 28.17, 'morn': 22.23}, 'pressure': 1023, 'humidity': 73, 'weather': [{'id': 500, 'main': 'Rain', 'description': 'light rain', 'icon': '10d'}], 'speed': 17.4, 'deg': 216, 'gust': 37.13, 'clouds': 100, 'pop': 0.81, 'rain': 1.17}, {'dt': 1641834000, 'sunrise': 1641817166, 'sunset': 1641851236, 'temp': {'day': 29.05, 'min': 25.86, 'max': 38.17, 'night': 25.86, 'eve': 28.35, 'morn': 27.7}, 'feels_like': {'day': 17.85, 'night': 14.18, 'eve': 18.28, 'morn': 16.81}, 'pressure': 1021, 'humidity': 40, 'weather': [{'id': 600, 'main': 'Snow', 'description': 'light snow', 'icon': '13d'}], 'speed': 16.82, 'deg': 313, 'gust': 31.63, 'clouds': 11, 'pop': 0.39, 'snow': 0.1}, {'dt': 1641920400, 'sunrise': 1641903551, 'sunset': 1641937698, 'temp': {'day': 19.33, 'min': 17.24, 'max': 23.81, 'night': 20.53, 'eve': 20.57, 'morn': 18.37}, 'feels_like': {'day': 6.73, 'night': 15.6, 'eve': 10.69, 'morn': 5.77}, 'pressure': 1033, 'humidity': 39, 'weather': [{'id': 801, 'main': 'Clouds', 'description': 'few clouds', 'icon': '02d'}], 'speed': 15.79, 'deg': 323, 'gust': 30.4, 'clouds': 21, 'pop': 0}, {'dt': 1642006800, 'sunrise': 1641989934, 'sunset': 1642024162, 'temp': {'day': 35.38, 'min': 21.74, 'max': 36.43, 'night': 33.8, 'eve': 34.93, 'morn': 24.94}, 'feels_like': {'day': 25.34, 'night': 26.91, 'eve': 26.67, 'morn': 13.6}, 'pressure': 1023, 'humidity': 43, 'weather': [{'id': 803, 'main': 'Clouds', 'description': 'broken clouds', 'icon': '04d'}], 'speed': 16.82, 'deg': 224, 'gust': 32.3, 'clouds': 81, 'pop': 0}, {'dt': 1642093200, 'sunrise': 1642076315, 'sunset': 1642110627, 'temp': {'day': 38.75, 'min': 33.26, 'max': 38.75, 'night': 33.39, 'eve': 35.08, 'morn': 33.26}, 'feels_like': {'day': 34.93, 'night': 26.51, 'eve': 28, 'morn': 27.95}, 'pressure': 1016, 'humidity': 61, 'weather': [{'id': 804, 'main': 'Clouds', 'description': 'overcast clouds', 'icon': '04d'}], 'speed': 9.08, 'deg': 327, 'gust': 20.31, 'clouds': 100, 'pop': 0}, {'dt': 1642179600, 'sunrise': 1642162693, 'sunset': 1642197092, 'temp': {'day': 34.25, 'min': 28.71, 'max': 35.91, 'night': 32.68, 'eve': 33.62, 'morn': 28.71}, 'feels_like': {'day': 27.07, 'night': 27.55, 'eve': 28.54, 'morn': 18.72}, 'pressure': 1021, 'humidity': 53, 'weather': [{'id': 800, 'main': 'Clear', 'description': 'sky is clear', 'icon': '01d'}], 'speed': 11.83, 'deg': 2, 'gust': 19.6, 'clouds': 3, 'pop': 0}]}\n",
      "Clear\n"
     ]
    }
   ],
   "source": [
    "import requests\n",
    "\n",
    "url = \"https://community-open-weather-map.p.rapidapi.com/forecast/daily\"\n",
    "\n",
    "querystring = {\"q\":\"new york,us\",\"lat\":\"41\",\"lon\":\"74\",\"cnt\":\"7\",\"units\":\"imperial\"}\n",
    "\n",
    "headers = {\n",
    "    'x-rapidapi-host': \"community-open-weather-map.p.rapidapi.com\",\n",
    "    'x-rapidapi-key': \"1e19830f3bmshf56abb61a6e9168p189818jsnf035a12afc26\"\n",
    "    }\n",
    "\n",
    "weather = requests.request(\"GET\", url, headers=headers, params=querystring)\n",
    "weather_dict = weather.json()\n",
    "\n",
    "print(weather_dict)\n",
    "\n",
    "print(weather_dict[\"list\"][0][\"weather\"][0][\"main\"])"
   ]
  }
 ],
 "metadata": {
  "interpreter": {
   "hash": "86d1a67b0d56e74f294bd0a89711776805270fb9ebddae761db44ecf66e3b529"
  },
  "kernelspec": {
   "display_name": "Python 3.9.7 64-bit ('base': conda)",
   "language": "python",
   "name": "python3"
  },
  "language_info": {
   "codemirror_mode": {
    "name": "ipython",
    "version": 3
   },
   "file_extension": ".py",
   "mimetype": "text/x-python",
   "name": "python",
   "nbconvert_exporter": "python",
   "pygments_lexer": "ipython3",
   "version": "3.9.7"
  },
  "orig_nbformat": 4
 },
 "nbformat": 4,
 "nbformat_minor": 2
}
